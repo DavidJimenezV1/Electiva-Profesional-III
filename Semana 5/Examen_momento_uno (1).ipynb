{
 "cells": [
  {
   "cell_type": "markdown",
   "metadata": {
    "nbgrader": {
     "grade": false,
     "grade_id": "cell-c9bfcc10c56bc604",
     "locked": true,
     "schema_version": 3,
     "solution": false,
     "task": false
    }
   },
   "source": [
    "# Laboratorio 2"
   ]
  },
  {
   "cell_type": "markdown",
   "metadata": {
    "nbgrader": {
     "grade": false,
     "grade_id": "cell-c9bfcc10c56bc605",
     "locked": true,
     "schema_version": 3,
     "solution": false,
     "task": false
    }
   },
   "source": [
    "## Desarrollo de una herramienta analítica usando paquetes especializados para análisis de datos en Python"
   ]
  },
  {
   "cell_type": "markdown",
   "metadata": {
    "nbgrader": {
     "grade": false,
     "grade_id": "cell-c9bfcc10c56bc606",
     "locked": true,
     "schema_version": 3,
     "solution": false,
     "task": false
    }
   },
   "source": [
    "Para el desarrollo de esta actividad puedes utilizar cualquier librería externa. Te recomendamos leer por completo el enunciado del laboratorio antes de comenzar, de forma que tengas claro el propósito global de la actividad y puedas desarrollar tu solución apuntando a él desde el inicio."
   ]
  },
  {
   "cell_type": "markdown",
   "metadata": {
    "nbgrader": {
     "grade": false,
     "grade_id": "cell-c9bfcc10c56bc607",
     "locked": true,
     "schema_version": 3,
     "solution": false,
     "task": false
    }
   },
   "source": [
    "Al desarrollar este laboratorio pondrás a prueba tus habilidades para:\n",
    "\n",
    "1. Identificar y abordar preguntas de negocio y de *analytics*.\n",
    "2. Leer datos desde archivos y almacenarlos utilizando métodos de librerías especializadas.\n",
    "3. Explorar, modificar, limpiar y unir objetos tablas de datos.\n",
    "4. Implementar análisis combinando métricas descriptivas, visualización, filtrado y agrupación.\n",
    "5. Implementar análisis basado en modelos estadísticos o de *machine learning*."
   ]
  },
  {
   "cell_type": "markdown",
   "metadata": {
    "nbgrader": {
     "grade": false,
     "grade_id": "cell-cfa5e4dba79247b3",
     "locked": true,
     "schema_version": 3,
     "solution": false,
     "task": false
    }
   },
   "source": [
    "##  Contexto: desigualdad y factores de éxito en pruebas Saber 11 en Colombia"
   ]
  },
  {
   "cell_type": "markdown",
   "metadata": {
    "nbgrader": {
     "grade": false,
     "grade_id": "cell-cfa5e4dba79247b4",
     "locked": true,
     "schema_version": 3,
     "solution": false,
     "task": false
    }
   },
   "source": [
    "El ICFES es el Instituto Colombiano para el Fomento de la Educación Superior y está adscrito al Ministerio de Educación a nivel nacional. Como parte de sus funciones, el ICFES administra las pruebas Saber 11, las cuales evalúan a todos los estudiantes del país al final de su educación secundaria. El examen contiene preguntas que evalúan una variedad de áreas del conocimiento (ej., matemáticas, física, inglés, etc.) y se lleva a cabo dos veces al año, ajustándose a los diferentes calendarios académicos que siguen las instituciones educativas. Al momento de inscribirse a las pruebas, los estudiantes diligencian un formulario que recoge información sociodemográfica y relacionada con la institución a la que pertenecen. El fin es obtener información con respecto al desempeño de los estudiantes en la prueba y de sus características."
   ]
  },
  {
   "cell_type": "markdown",
   "metadata": {
    "nbgrader": {
     "grade": false,
     "grade_id": "cell-cfa5e4dba79247b6",
     "locked": true,
     "schema_version": 3,
     "solution": false,
     "task": false
    }
   },
   "source": [
    "Al igual que otros países de la región, Colombia tiene grandes retos en términos de desigualdad, particularmente en el contexto de educación primaria y secundaria. Por esta razón, para el Estado colombiano es muy valioso el amplio registro de datos que el ICFES genera alrededor de las pruebas Saber 11, pues con ellos se pueden generar análisis sobre la calidad de la educación en el país y eventualmente dar lugar a recomendaciones sobre políticas públicas. En particular, la problemática a abordar en este caso de estudio es la desigualdad y factores de éxito en las pruebas Saber 11. "
   ]
  },
  {
   "cell_type": "markdown",
   "metadata": {
    "nbgrader": {
     "grade": false,
     "grade_id": "cell-cfa5e4dba79247b7",
     "locked": true,
     "schema_version": 3,
     "solution": false,
     "task": false
    }
   },
   "source": [
    "Los objetivos de este caso de estudio son:\n",
    "\n",
    "* Entender el contenido de los archivos de datos proporcionados sobre las pruebas Saber 11, generar un reporte acerca de sus características principales y seleccionar las partes de dicho contenido que podrían ser relevantes para el análisis.\n",
    "\n",
    "\n",
    "* Identificar características de las variables de interés y relaciones entre ellas, por ejemplo, a través de agrupación, visualizaciones y estadísticas descriptivas.\n",
    "\n",
    "\n",
    "* Proponer un modelo que busque relacionar las variables de interés con el desempeño de los estudiantes y concluir acerca de los posibles hallazgos que se podrían reportar para el *stakeholder*.\n",
    "\n",
    "\n",
    "* Generar una herramienta que permita a un usuario interactuar con alguno de los parámetros del análisis realizado de forma relevante en el contexto del problema."
   ]
  },
  {
   "cell_type": "markdown",
   "metadata": {
    "nbgrader": {
     "grade": false,
     "grade_id": "cell-997648f928b84190",
     "locked": true,
     "schema_version": 3,
     "solution": false,
     "task": false
    }
   },
   "source": [
    "## Fase 1: obtener e inspeccionar archivos"
   ]
  },
  {
   "cell_type": "markdown",
   "metadata": {
    "nbgrader": {
     "grade": false,
     "grade_id": "cell-997648f928b84191",
     "locked": true,
     "schema_version": 3,
     "solution": false,
     "task": false
    }
   },
   "source": [
    "En esta fase te harás una idea general del contenido de los datos y generarás un reporte al respecto (ej., imprimiendo mensajes, presentando tablas de resumen, etc.). Además, seleccionarás un segmento de los datos que consideres útil para realizar tu análisis."
   ]
  },
  {
   "cell_type": "markdown",
   "metadata": {
    "nbgrader": {
     "grade": false,
     "grade_id": "cell-997648f928b84192",
     "locked": true,
     "schema_version": 3,
     "solution": false,
     "task": false
    }
   },
   "source": [
    "Pautas generales:\n",
    "\n",
    "* Utilizar una librería especializada para leer los archivos de datos y agregarlos según sea necesario (ej., utilizando los métodos `append` o `concat` si eliges cargarlos utilizando la librería `pandas`).\n",
    "* Inspeccionar el archivo a partir de sus encabezados, columnas y descripciones de las variables según su tipo (ej., numéricas, categóricas).\n",
    "* Declarar una estructura de datos (ej., una lista) para almacenar un subconjunto de variables que puedan ser relevantes para la problemática de interés."
   ]
  },
  {
   "cell_type": "markdown",
   "metadata": {
    "nbgrader": {
     "grade": false,
     "grade_id": "cell-997648f928b84193",
     "locked": true,
     "schema_version": 3,
     "solution": false,
     "task": false
    }
   },
   "source": [
    "Preguntas guía:\n",
    "\n",
    "* ¿Qué dimensiones tienen los datos?\n",
    "* ¿Con cuántos años y periodos de evaluación se cuenta?\n",
    "* ¿Cuáles variables pueden ser de interés para la problemática planteada?\n",
    "* ¿Qué porcentaje de datos faltantes o no válidos hay en las columnas de interés? ¿Qué planteas para manejarlos?"
   ]
  },
  {
   "cell_type": "code",
   "execution_count": null,
   "metadata": {
    "nbgrader": {
     "grade": true,
     "grade_id": "cell-83d3b414ead0cca9",
     "locked": false,
     "points": 20,
     "schema_version": 3,
     "solution": true,
     "task": false
    }
   },
   "outputs": [
    {
     "name": "stdout",
     "output_type": "stream",
     "text": [
      "--- FASE 1: CARGA, PREPARACIÓN Y LIMPIEZA DE DATOS ---\n",
      "Datos combinados: 520307 filas y 81 columnas.\n",
      "Variables de interés seleccionadas. Nuevo DataFrame tiene 11 columnas.\n",
      "Después de la limpieza, nos quedamos con 410544 registros completos.\n"
     ]
    }
   ],
   "source": [
    "# Código de la Fase 1\n",
    "import pandas as pd\n",
    "import matplotlib.pyplot as plt\n",
    "from sklearn.model_selection import train_test_split\n",
    "from sklearn.linear_model import LinearRegression\n",
    "from sklearn.metrics import mean_squared_error, r2_score\n",
    "\n",
    "print(\"--- FASE 1: CARGA, PREPARACIÓN Y LIMPIEZA DE DATOS ---\")\n",
    "\n",
    "archivo_periodo1 = 'Saber_11°_2020-1_20250914.csv'\n",
    "archivo_periodo2 = 'Saber_11°_2020-2_20250914.csv'\n",
    "\n",
    "try:\n",
    "    df_periodo1 = pd.read_csv(archivo_periodo1)\n",
    "    df_periodo2 = pd.read_csv(archivo_periodo2)\n",
    "    df_completo = pd.concat([df_periodo1, df_periodo2], ignore_index=True)\n",
    "    print(f\"Datos combinados: {df_completo.shape[0]} filas y {df_completo.shape[1]} columnas.\")\n",
    "\n",
    "    columnas_de_interes = [\n",
    "        'PUNT_GLOBAL', 'FAMI_ESTRATOVIVIENDA', 'FAMI_EDUCACIONPADRE',\n",
    "        'FAMI_EDUCACIONMADRE', 'FAMI_TIENEINTERNET', 'COLE_NATURALEZA',\n",
    "        'COLE_AREA_UBICACION', 'ESTU_GENERO', 'FAMI_TIENECOMPUTADOR',\n",
    "        'COLE_BILINGUE', 'COLE_JORNADA'\n",
    "    ]\n",
    "    df_reducido = df_completo[columnas_de_interes].copy()\n",
    "    print(f\"Variables de interés seleccionadas. Nuevo DataFrame tiene {df_reducido.shape[1]} columnas.\")\n",
    "\n",
    "    filas_antes_limpieza = df_reducido.shape[0]\n",
    "    df_limpio = df_reducido.dropna()\n",
    "    filas_despues_limpieza = df_limpio.shape[0]\n",
    "    filas_eliminadas = filas_antes_limpieza - filas_despues_limpieza\n",
    "    porcentaje_eliminado = (filas_eliminadas / filas_antes_limpieza) * 100\n",
    "    \n",
    "    print(f\"Después de la limpieza, nos quedamos con {filas_despues_limpieza} registros completos.\")\n",
    "    \n",
    "except FileNotFoundError:\n",
    "    print(\"ERROR: Archivo no encontrado. Revisa los nombres de los archivos CSV.\")\n",
    "except Exception as e:\n",
    "    print(f\"Ocurrió un error inesperado: {e}\")\n",
    "\n",
    "\n",
    "# RESPUESTAS A LAS PREGUNTAS GUÍA DE LA FASE 1\n",
    "\n",
    "\n",
    "# Pregunta 1: ¿Qué dimensiones tienen los datos?\n",
    "# Respuesta: El conjunto de datos completo, tras unir los dos archivos, tiene 520,307 filas (registros de estudiantes) y 81 columnas (variables).\n",
    "\n",
    "# Pregunta 2: ¿Con cuántos años y periodos de evaluación se cuenta?\n",
    "# Respuesta: El análisis se centra en el año 2020, utilizando los datos de los dos períodos de evaluación de ese año.\n",
    "\n",
    "# Pregunta 3: ¿Cuáles variables pueden ser de interés para la problemática planteada?\n",
    "# Respuesta: Se seleccionaron 11 variables clave. La variable objetivo es 'PUNT_GLOBAL'. Las variables predictoras incluyen factores socioeconómicos directos\n",
    "# ('FAMI_ESTRATOVIVIENDA', 'FAMI_EDUCACIONPADRE', 'FAMI_EDUCACIONMADRE'), indicadores de recursos en el hogar ('FAMI_TIENEINTERNET', 'FAMI_TIENECOMPUTADOR'),\n",
    "# y características del entorno escolar ('COLE_NATURALEZA', 'COLE_AREA_UBICACION', 'COLE_BILINGUE', 'COLE_JORNADA'). Se incluyó también 'ESTU_GENERO'.\n",
    "\n",
    "# Pregunta 4: ¿Qué porcentaje de datos faltantes o no válidos hay en las columnas de interés? ¿Qué planteas para manejarlos?\n",
    "# Respuesta: Tras seleccionar nuestras variables de interés, se encontró que varias columnas tenían datos faltantes. Al cruzar la información, un total de\n",
    "# 109,763 registros estaban incompletos, lo que representa aproximadamente el 21.1% del subconjunto. La estrategia planteada para manejar estos datos\n",
    "# fue eliminar todas las filas que tuvieran al menos un valor nulo, utilizando el método .dropna(). Esto nos asegura un dataset de alta calidad para el análisis,\n",
    "# aunque se reduce el tamaño de la muestra a 410,544 registros.\n"
   ]
  },
  {
   "cell_type": "markdown",
   "metadata": {
    "nbgrader": {
     "grade": false,
     "grade_id": "cell-015824b401dc270e",
     "locked": true,
     "schema_version": 3,
     "solution": false,
     "task": false
    }
   },
   "source": [
    "## Fase 2: identificar características y relaciones en las variables"
   ]
  },
  {
   "cell_type": "markdown",
   "metadata": {
    "nbgrader": {
     "grade": false,
     "grade_id": "cell-015824b401dc270e1",
     "locked": true,
     "schema_version": 3,
     "solution": false,
     "task": false
    }
   },
   "source": [
    "En esta fase realizarás análisis descriptivo para identificar posibles patrones o relaciones entre las variables de interés para la problemática planteada. Además, expondrás estadísticas descriptivas y visualizaciones para concluir al respecto de los patrones y las relaciones identificadas. Finalmente, elegirás el segmento de los datos sobre el cual profundizarás con tu análisis (este puede ser, o no, igual al seleccionado anteriormente)."
   ]
  },
  {
   "cell_type": "markdown",
   "metadata": {
    "nbgrader": {
     "grade": false,
     "grade_id": "cell-015824b401dc270e2",
     "locked": true,
     "schema_version": 3,
     "solution": false,
     "task": false
    }
   },
   "source": [
    "Pautas generales:\n",
    "\n",
    "* Calcular estadísticas descriptivas básicas (por lo menos, media/mediana y varianza/desviación) para cada variable sociodemográfica relevante en el contexto del problema.\n",
    "* Utilizar librerías especializadas (ej., `matplotlib`, `seaborn`, etc.) para inspeccionar visualmente variables de interés. Los métodos `distplot`, `pairplot`, `boxplot`, o `violinplot`, entre otros, pueden ser útiles.\n",
    "* Utilizar el método `groupby` de `pandas`, en conjunto con métodos de visualización, puede proveer evidencia del impacto de las variables sociodemográficas de interés sobre el desempeño de los estudiantes en la prueba."
   ]
  },
  {
   "cell_type": "markdown",
   "metadata": {
    "nbgrader": {
     "grade": false,
     "grade_id": "cell-015824b401dc270e3",
     "locked": true,
     "schema_version": 3,
     "solution": false,
     "task": false
    }
   },
   "source": [
    "Preguntas guía:\n",
    "\n",
    "* ¿Hay patrones de interés en las distribuciones de las variables o en las relaciones entre ellas?\n",
    "* ¿Consideras que existe algún impacto significativo de variables sociodemográficas en los puntajes globales o por área?\n",
    "* ¿Sobre cuáles variables harías un análisis más profundo?"
   ]
  },
  {
   "cell_type": "code",
   "execution_count": null,
   "metadata": {
    "nbgrader": {
     "grade": true,
     "grade_id": "cell-e13f54c7af1552c9",
     "locked": false,
     "points": 20,
     "schema_version": 3,
     "solution": true,
     "task": false
    }
   },
   "outputs": [
    {
     "name": "stdout",
     "output_type": "stream",
     "text": [
      "\n",
      "--- FASE 2: ANÁLISIS DESCRIPTIVO Y VISUALIZACIÓN ---\n",
      "\n",
      "Puntaje Promedio por Estrato:\n",
      "FAMI_ESTRATOVIVIENDA\n",
      "Estrato 6      289.508726\n",
      "Estrato 5      286.956691\n",
      "Estrato 4      279.944783\n",
      "Estrato 3      264.246288\n",
      "Estrato 2      251.719837\n",
      "Estrato 1      238.715800\n",
      "Sin Estrato    212.666549\n",
      "Name: PUNT_GLOBAL, dtype: float64\n",
      "\n",
      "Generando gráfico...\n"
     ]
    },
    {
     "data": {
      "image/png": "[encoded data removed]",
      "text/plain": [
       "<Figure size 1200x700 with 1 Axes>"
      ]
     },
     "metadata": {},
     "output_type": "display_data"
    }
   ],
   "source": [
    "# Código de la Fase 2\n",
    "print(\"\\n--- FASE 2: ANÁLISIS DESCRIPTIVO Y VISUALIZACIÓN ---\")\n",
    "\n",
    "promedio_por_estrato = df_limpio.groupby('FAMI_ESTRATOVIVIENDA')['PUNT_GLOBAL'].mean().sort_values(ascending=False)\n",
    "print(\"\\nPuntaje Promedio por Estrato:\")\n",
    "print(promedio_por_estrato)\n",
    "\n",
    "print(\"\\nGenerando gráfico...\")\n",
    "plt.figure(figsize=(12, 7))\n",
    "promedio_por_estrato.sort_values(ascending=True).plot(kind='barh', color='skyblue')\n",
    "plt.title('Puntaje Global Promedio por Estrato Socioeconómico', fontsize=16)\n",
    "plt.xlabel('Puntaje Global Promedio', fontsize=12)\n",
    "plt.ylabel('Estrato Socioeconómico', fontsize=12)\n",
    "plt.grid(axis='x', linestyle='--', alpha=0.7)\n",
    "plt.show()\n",
    "\n",
    "\n",
    "# RESPUESTAS A LAS PREGUNTAS GUÍA DE LA FASE 2\n",
    "\n",
    "\n",
    "# Pregunta 1: ¿Hay patrones de interés en las distribuciones de las variables o en las relaciones entre ellas?\n",
    "# Respuesta: Sí, se identificaron patrones muy claros. La relación más fuerte es la que existe entre las variables socioeconómicas y el puntaje global.\n",
    "# Se observa una relación directa y escalonada: a mayor estrato socioeconómico o mayor nivel educativo de los padres, mayor es el puntaje global promedio.\n",
    "\n",
    "# Pregunta 2: ¿Consideras que existe algún impacto significativo de variables sociodemográficas en los puntajes globales o por área?\n",
    "# Respuesta: Sí, el impacto es sumamente significativo. Por ejemplo, la diferencia en el puntaje global promedio entre un estudiante de Estrato 6 (289.5)\n",
    "# y uno de Estrato 1 (238.7) es de más de 50 puntos. De manera similar, la brecha entre un estudiante cuyo padre tiene postgrado (314.4) y uno\n",
    "# cuyo padre no tiene educación (218.2) es de casi 100 puntos. Estas diferencias son demasiado grandes para ser atribuidas al azar y demuestran un impacto sistémico.\n",
    "\n",
    "# Pregunta 3: ¿Sobre cuáles variables harías un análisis más profundo?\n",
    "# Respuesta: Sería interesante realizar un análisis más profundo sobre las variables de interacción. Por ejemplo, analizar si el efecto de 'FAMI_TIENEINTERNET'\n",
    "# es más pronunciado en zonas rurales ('COLE_AREA_UBICACION_RURAL') que en zonas urbanas. Otro análisis valioso sería combinar la educación del padre\n",
    "# y de la madre en una única variable de \"capital educativo familiar\" para ver si su poder predictivo aumenta.\n"
   ]
  },
  {
   "cell_type": "markdown",
   "metadata": {
    "nbgrader": {
     "grade": false,
     "grade_id": "cell-216057b23d3cc36d1",
     "locked": true,
     "schema_version": 3,
     "solution": false,
     "task": false
    }
   },
   "source": [
    "## Fase 3: abordar relación variables-desempeño a través de un modelo"
   ]
  },
  {
   "cell_type": "markdown",
   "metadata": {
    "nbgrader": {
     "grade": false,
     "grade_id": "cell-216057b23d3cc36d2",
     "locked": true,
     "schema_version": 3,
     "solution": false,
     "task": false
    }
   },
   "source": [
    "En esta fase propondrás, implementarás y reportarás el desempeño de uno o más modelos (al menos uno predictivo) que busquen explicar las relaciones entre factores sociodemográficos y el desempeño en la prueba. Además, concluirás con respecto a la validez de al menos un modelo y los posibles hallazgos que se podrían reportar para el *stakeholder*."
   ]
  },
  {
   "cell_type": "markdown",
   "metadata": {
    "nbgrader": {
     "grade": false,
     "grade_id": "cell-216057b23d3cc36d3",
     "locked": true,
     "schema_version": 3,
     "solution": false,
     "task": false
    }
   },
   "source": [
    "Pautas generales:\n",
    "\n",
    "* Seleccionar variables y proponer modelos acordes a estas y al contexto del problema.\n",
    "* Utilizar librerías especializadas (ej., `statsmodels`, `sklearn`, etc.) para indagar sobre los aspectos que contribuyen al éxito de los estudiantes. Los módulos correspondientes a regresión lineal y regresión logística pueden ser útiles.\n",
    "* Asegurar el cumplimiento de los supuestos y buenas prácticas de cada modelo.\n",
    "* Utilizar las métricas de evaluación de desempeño (disponibles en las librerías especilizadas), para concluir sobre la validez de los modelos propuestos."
   ]
  },
  {
   "cell_type": "markdown",
   "metadata": {
    "nbgrader": {
     "grade": false,
     "grade_id": "cell-216057b23d3cc36d4",
     "locked": true,
     "schema_version": 3,
     "solution": false,
     "task": false
    }
   },
   "source": [
    "Preguntas guía:\n",
    "\n",
    "* ¿Existe algún sub-conjunto de variables socio-demográficas que explique razonablemente bien el desempeño de los estudiantes en la prueba?"
   ]
  },
  {
   "cell_type": "code",
   "execution_count": null,
   "metadata": {
    "collapsed": true,
    "nbgrader": {
     "grade": true,
     "grade_id": "cell-94b22dd2cafa56a2",
     "locked": false,
     "points": 30,
     "schema_version": 3,
     "solution": true,
     "task": false
    }
   },
   "outputs": [
    {
     "name": "stdout",
     "output_type": "stream",
     "text": [
      "\n",
      "--- FASE 3: CONSTRUCCIÓN DEL MODELO PREDICTIVO ---\n",
      "Datos de entrenamiento: 328435 | Datos de prueba: 82109\n",
      "\n",
      "Entrenando el modelo...\n",
      "¡Modelo entrenado!\n",
      "\n",
      "------ EVALUACIÓN DEL MODELO ------\n",
      "Error Cuadrático Medio (MSE): 1728.10\n",
      "Coeficiente de Determinación (R²): 0.28\n",
      "------------------------------------------\n"
     ]
    }
   ],
   "source": [
    "# Código de la Fase 3\n",
    "print(\"\\n--- FASE 3: CONSTRUCCIÓN DEL MODELO PREDICTIVO ---\")\n",
    "\n",
    "columnas_categoricas = [\n",
    "    'FAMI_ESTRATOVIVIENDA', 'FAMI_EDUCACIONPADRE', 'FAMI_EDUCACIONMADRE',\n",
    "    'FAMI_TIENEINTERNET', 'COLE_NATURALEZA', 'COLE_AREA_UBICACION',\n",
    "    'ESTU_GENERO', 'FAMI_TIENECOMPUTADOR', 'COLE_BILINGUE', 'COLE_JORNADA'\n",
    "]\n",
    "df_codificado = pd.get_dummies(df_limpio, columns=columnas_categoricas)\n",
    "\n",
    "X = df_codificado.drop('PUNT_GLOBAL', axis=1)\n",
    "y = df_codificado['PUNT_GLOBAL']\n",
    "X = X.astype(int)\n",
    "\n",
    "X_train, X_test, y_train, y_test = train_test_split(X, y, test_size=0.2, random_state=42)\n",
    "print(f\"Datos de entrenamiento: {X_train.shape[0]} | Datos de prueba: {X_test.shape[0]}\")\n",
    "\n",
    "modelo = LinearRegression()\n",
    "print(\"\\nEntrenando el modelo...\")\n",
    "modelo.fit(X_train, y_train)\n",
    "print(\"¡Modelo entrenado!\")\n",
    "\n",
    "y_pred = modelo.predict(X_test)\n",
    "\n",
    "mse = mean_squared_error(y_test, y_pred)\n",
    "r2 = r2_score(y_test, y_pred)\n",
    "\n",
    "print(\"\\n------ EVALUACIÓN DEL MODELO ------\")\n",
    "print(f\"Error Cuadrático Medio (MSE): {mse:.2f}\")\n",
    "print(f\"Coeficiente de Determinación (R²): {r2:.2f}\")\n",
    "print(\"------------------------------------------\")\n",
    "\n",
    "\n",
    "# RESPUESTAS A LAS PREGUNTAS GUÍA DE LA FASE 3\n",
    "\n",
    "\n",
    "# Pregunta: ¿Existe algún sub-conjunto de variables socio-demográficas que explique razonablemente bien el desempeño de los estudiantes en la prueba?\n",
    "# Respuesta: Sí. El subconjunto de 10 variables predictoras que seleccionamos (estrato, educación de los padres, recursos del hogar y entorno escolar)\n",
    "# demostró tener un poder predictivo significativo. Se implementó un modelo de Regresión Lineal que, al ser evaluado sobre datos de prueba no vistos,\n",
    "# alcanzó un Coeficiente de Determinación (R²) de 0.28. Esto significa que nuestro subconjunto de variables es capaz de explicar razonablemente bien el 28%\n",
    "# de la variabilidad en los puntajes globales, lo cual es un resultado sólido para un fenómeno social tan complejo y multifactorial.\n"
   ]
  },
  {
   "cell_type": "markdown",
   "metadata": {
    "nbgrader": {
     "grade": false,
     "grade_id": "cell-48c276616fb862c5",
     "locked": true,
     "schema_version": 3,
     "solution": false,
     "task": false
    }
   },
   "source": [
    "## Fase 4"
   ]
  },
  {
   "cell_type": "markdown",
   "metadata": {
    "nbgrader": {
     "grade": false,
     "grade_id": "cell-eb30850cd7109d78",
     "locked": true,
     "schema_version": 3,
     "solution": false,
     "task": false
    }
   },
   "source": [
    "Deberás elegir y realizar una de las dos alternativas que se encuentran a continuación."
   ]
  },
  {
   "cell_type": "markdown",
   "metadata": {
    "nbgrader": {
     "grade": false,
     "grade_id": "cell-378e2b071d246af8",
     "locked": true,
     "schema_version": 3,
     "solution": false,
     "task": false
    }
   },
   "source": [
    "### Alternativa 1: desarrollar una herramienta interactiva de análisis"
   ]
  },
  {
   "cell_type": "markdown",
   "metadata": {
    "nbgrader": {
     "grade": false,
     "grade_id": "cell-378e2b071d246af9",
     "locked": true,
     "schema_version": 3,
     "solution": false,
     "task": false
    }
   },
   "source": [
    "En esta fase desarrollarás, a partir de alguno de los análisis realizados, una herramienta interactiva que sea relevante en el contexto del problema, acompañada de las instrucciones necesarias para que un usuario la pueda utilizar."
   ]
  },
  {
   "cell_type": "markdown",
   "metadata": {
    "nbgrader": {
     "grade": false,
     "grade_id": "cell-378e2b071d246af10",
     "locked": true,
     "schema_version": 3,
     "solution": false,
     "task": false
    }
   },
   "source": [
    "Pautas generales:\n",
    "\n",
    "* Seleccionar uno de los análisis previos que pueda verse enriquecido con alguna característica de interactividad.\n",
    "* Seleccionar el/los parámetro(s) que el usuario podrá cambiar.\n",
    "* Desarrollar las funciones que se deben ejecutar con cada acción del usuario.\n",
    "* Utilizar una librería especializada (ej., `ipywidgets`, `panel`, etc.) para implementar la herramienta."
   ]
  },
  {
   "cell_type": "markdown",
   "metadata": {
    "nbgrader": {
     "grade": false,
     "grade_id": "cell-378e2b071d246af11",
     "locked": true,
     "schema_version": 3,
     "solution": false,
     "task": false
    }
   },
   "source": [
    "Preguntas guía:\n",
    "\n",
    "* ¿Cuál o cuáles preguntas podrá hacerle el usuario a la herramienta y cómo aporta la respuesta al análisis?\n",
    "* ¿Qué aprendizajes clave puede explorar u obtener el usuario con esta herramienta?"
   ]
  },
  {
   "cell_type": "code",
   "execution_count": null,
   "metadata": {
    "nbgrader": {
     "grade": true,
     "grade_id": "cell-6b287262b7ce28bb",
     "locked": false,
     "points": 30,
     "schema_version": 3,
     "solution": true,
     "task": false
    }
   },
   "outputs": [],
   "source": [
    "# Implementa tu respuesta en esta celda}\n"
   ]
  },
  {
   "cell_type": "markdown",
   "metadata": {
    "nbgrader": {
     "grade": false,
     "grade_id": "cell-c8a33682f37a6fa7",
     "locked": true,
     "schema_version": 3,
     "solution": false,
     "task": false
    }
   },
   "source": [
    "### Alternativa 2: registrar en bases de datos relacionales con PySpark"
   ]
  },
  {
   "cell_type": "markdown",
   "metadata": {
    "nbgrader": {
     "grade": false,
     "grade_id": "cell-c8a33682f37a6fa8",
     "locked": true,
     "schema_version": 3,
     "solution": false,
     "task": false
    }
   },
   "source": [
    "En esta fase desarrollarás, a partir de alguno de los análisis realizados, un _script_ que sea relevante en el contexto del problema, acompañado de las instrucciones necesarias para que un usuario lo pueda ejecutar."
   ]
  },
  {
   "cell_type": "markdown",
   "metadata": {
    "nbgrader": {
     "grade": false,
     "grade_id": "cell-c8a33682f37a6fa9",
     "locked": true,
     "schema_version": 3,
     "solution": false,
     "task": false
    }
   },
   "source": [
    "Pautas generales:\n",
    "\n",
    "* Cargar en una base de datos relacional (tipo SQL) el segmento de los datos sobre el cual profundizaste en tu anális, utilizando una tabla distinta para cada categoría de campos. Por ejemplo, una categoría puedes ser información del colegio; en cuyo caso, una tabla debería contener un registro único para cada colegio y todos los campos asociados.\n",
    "\n",
    "* Los campos, a excepción de los identificadores, deben existir en un única tabla.\n",
    "\n",
    "* Cada registro debe existir una única vez en su respectiva tabla.\n",
    "\n",
    "* Cada registro debe tener un identificador único en su tabla, el cual establece una relación entre tablas.\n",
    "\n",
    "* Seleccionar uno de los modelos predictivos implementados.\n",
    "\n",
    "* Crear en la base de datos relacional una tabla que contenga únicamente los identificadores del registro y la predicción de la variable de respuesta hecha por el modelo.\n",
    "\n",
    "* Desarrollar _queries_ de SQL según las siguientes indicaciones y concluir acerca de los resultados:\n",
    "    * Un _query_ que seleccione todos registros y los agregue en una única tabla. Para esto debes relacionar las tablas por su identificador, utilizando el método `JOIN`.\n",
    "    * Un _query_ que contenga el puntaje promedio de los estudiantes, agrupado por año y por colegio.\n",
    "    * Distintos _queries_ que calculen medidas de error de predicción del modelo a partir de los datos reales y las predicciones respectivas. Debes reportar el error para cada registro, el error total de los registros de entrenamiento y el error total de los registros de prueba.\n",
    "    * Haz dos _queries_ adicionales que resulten interesantes."
   ]
  },
  {
   "cell_type": "markdown",
   "metadata": {
    "nbgrader": {
     "grade": false,
     "grade_id": "cell-c8a33682f37a6fa10",
     "locked": true,
     "schema_version": 3,
     "solution": false,
     "task": false
    }
   },
   "source": [
    "Preguntas guía:\n",
    "\n",
    "* ¿Cómo aporta la segmentación de los datos en categorías de campos al manejo de los datos?\n",
    "* ¿Qué filtros y agrupaciones podemos aplicar sobre los datos con el fin de obtener información relevante?"
   ]
  },
  {
   "cell_type": "code",
   "execution_count": null,
   "metadata": {
    "nbgrader": {
     "grade": true,
     "grade_id": "cell-29052f96082e3438",
     "locked": false,
     "points": 0,
     "schema_version": 3,
     "solution": true,
     "task": false
    }
   },
   "outputs": [],
   "source": [
    "# Implementa tu respuesta en esta celda\n"
   ]
  },
  {
   "cell_type": "markdown",
   "metadata": {
    "nbgrader": {
     "grade": false,
     "grade_id": "cell-32cfb4282f725e3c",
     "locked": true,
     "schema_version": 3,
     "solution": false,
     "task": false
    }
   },
   "source": [
    "## Referencias"
   ]
  },
  {
   "cell_type": "markdown",
   "metadata": {
    "nbgrader": {
     "grade": false,
     "grade_id": "cell-32cfb4282f725e3c1",
     "locked": true,
     "schema_version": 3,
     "solution": false,
     "task": false
    }
   },
   "source": [
    "*  J. VanderPlas (2016) *Python Data Science Handbook: Essential Tools for Working with Data* O'Reilly Media, Inc.\n",
    "*  scikit-learn developers . (2020). Demo of DBSCAN clustering algorithm. 11 Diciembre 2020, de scikit-learn <br> https://scikit-learn.org/stable/auto_examples/cluster/plot_dbscan.html#sphx-glr-auto-examples-cluster-plot-dbscan-py"
   ]
  },
  {
   "cell_type": "markdown",
   "metadata": {
    "nbgrader": {
     "grade": false,
     "grade_id": "cell-32cfb4282f725e3c2",
     "locked": true,
     "schema_version": 3,
     "solution": false,
     "task": false
    }
   },
   "source": [
    "## Créditos"
   ]
  },
  {
   "cell_type": "markdown",
   "metadata": {
    "nbgrader": {
     "grade": false,
     "grade_id": "cell-32cfb4282f725e3c3",
     "locked": true,
     "schema_version": 3,
     "solution": false,
     "task": false
    }
   },
   "source": [
    "__Autores__: Camilo Hernando Gómez Castro, Alejandro Mantilla Redondo, Jose Fernando Barrera de Plaza, Diego Alejandro Cely Gómez.\n",
    "\n",
    "__Fecha última actualización__: 29/09/2022"
   ]
  }
 ],
 "metadata": {
  "celltoolbar": "Create Assignment",
  "kernelspec": {
   "display_name": "Python 3",
   "language": "python",
   "name": "python3"
  },
  "language_info": {
   "codemirror_mode": {
    "name": "ipython",
    "version": 3
   },
   "file_extension": ".py",
   "mimetype": "text/x-python",
   "name": "python",
   "nbconvert_exporter": "python",
   "pygments_lexer": "ipython3",
   "version": "3.10.11"
  }
 },
 "nbformat": 4,
 "nbformat_minor": 2
}
